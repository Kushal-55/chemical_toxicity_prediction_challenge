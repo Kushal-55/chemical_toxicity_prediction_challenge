{
  "cells": [
    {
      "cell_type": "markdown",
      "metadata": {
        "id": "view-in-github",
        "colab_type": "text"
      },
      "source": [
        "<a href=\"https://colab.research.google.com/github/Kushal-55/chemical_toxicity_prediction_challenge/blob/main/toxicity_prediction_challenge.ipynb\" target=\"_parent\"><img src=\"https://colab.research.google.com/assets/colab-badge.svg\" alt=\"Open In Colab\"/></a>"
      ]
    },
    {
      "cell_type": "code",
      "execution_count": 1,
      "metadata": {
        "colab": {
          "base_uri": "https://localhost:8080/"
        },
        "id": "rlIZYogCK2hA",
        "outputId": "358aa592-1a9c-4da6-8dfe-017581fb4227"
      },
      "outputs": [
        {
          "output_type": "stream",
          "name": "stdout",
          "text": [
            "Looking in indexes: https://pypi.org/simple, https://us-python.pkg.dev/colab-wheels/public/simple/\n",
            "Collecting rdkit==2022.9.4\n",
            "  Downloading rdkit-2022.9.4-cp39-cp39-manylinux_2_17_x86_64.manylinux2014_x86_64.whl (29.3 MB)\n",
            "\u001b[2K     \u001b[90m━━━━━━━━━━━━━━━━━━━━━━━━━━━━━━━━━━━━━━━━\u001b[0m \u001b[32m29.3/29.3 MB\u001b[0m \u001b[31m4.8 MB/s\u001b[0m eta \u001b[36m0:00:00\u001b[0m\n",
            "\u001b[?25hRequirement already satisfied: numpy in /usr/local/lib/python3.9/dist-packages (from rdkit==2022.9.4) (1.22.4)\n",
            "Requirement already satisfied: Pillow in /usr/local/lib/python3.9/dist-packages (from rdkit==2022.9.4) (8.4.0)\n",
            "Installing collected packages: rdkit\n",
            "Successfully installed rdkit-2022.9.4\n"
          ]
        }
      ],
      "source": [
        "!pip install rdkit==2022.9.4\n"
      ]
    },
    {
      "cell_type": "code",
      "source": [
        "from google.colab import drive\n",
        "drive.mount('/content/drive')"
      ],
      "metadata": {
        "colab": {
          "base_uri": "https://localhost:8080/"
        },
        "id": "TautBt0tYwx9",
        "outputId": "e727a810-efdf-4111-a082-70ab4403fad6"
      },
      "execution_count": 3,
      "outputs": [
        {
          "output_type": "stream",
          "name": "stdout",
          "text": [
            "Mounted at /content/drive\n"
          ]
        }
      ]
    },
    {
      "cell_type": "code",
      "execution_count": 4,
      "metadata": {
        "id": "dYNv0OeNiEfz"
      },
      "outputs": [],
      "source": [
        "# Load training and testing data\n",
        "import pandas as pd\n",
        "import numpy as np\n",
        "train_raw = pd.read_csv('/content/drive/MyDrive/Data Mining and Machine Learning Assignment 1/train_II.csv')\n",
        "test_raw = pd.read_csv('/content/drive/MyDrive/Data Mining and Machine Learning Assignment 1/test_II.csv')\n",
        "\n"
      ]
    },
    {
      "cell_type": "code",
      "execution_count": 5,
      "metadata": {
        "colab": {
          "base_uri": "https://localhost:8080/",
          "height": 833
        },
        "id": "fiYe52e3ejeg",
        "outputId": "12ed56aa-0ec5-42c6-82cf-f588210a4b68"
      },
      "outputs": [
        {
          "output_type": "execute_result",
          "data": {
            "text/plain": [
              "                                                   Id  Expected\n",
              "0     C1=CC(=CC=C1C(C2=CC=C(C=C2)O)C(Cl)(Cl)Cl)O;1644         2\n",
              "1                                 CCCCCCCCC(=O)C;2451         2\n",
              "2           CCCCCCCCCC[N+](C)(C)CCCCCCCCCC.[Cl-];1384         2\n",
              "3        C1CN(C(=N1)N[N+](=O)[O-])CC2=CN=C(C=C2)Cl;16         2\n",
              "4                                     [Na+].[I-];1856         2\n",
              "5                             CCCSP(=O)(OCC)SCCC;1646         2\n",
              "6   C(C(C(C(C(F)(F)S(=O)(=O)O)(F)F)(F)F)(F)F)(C(C(...         1\n",
              "7                      C1=C(C=C(C(=C1Br)O)Br)C#N;1611         2\n",
              "8               CCCC(=O)OCC(COC(=O)CCC)OC(=O)CCC;1852         2\n",
              "9               CCOC(=O)CC(C(=O)OCC)SP(=O)(OC)OC;1647         2\n",
              "10                              C1CC2C(O2)CC1C3CO3;40         2\n",
              "11   C/C(=N\\OC(=O)N(SN(C(=O)O/N=C(/SC)\\C)C)C)/SC;1637         2\n",
              "12          C[C@](CC1=CC(=C(C=C1)O)O)(C(=O)O)N.O;1857         2\n",
              "13              CCOC(=O)CC(C(=O)OCC)SP(=O)(OC)OC;1385         2\n",
              "14  C[C@@H]1CN(C[C@@H](N1C2=NC(=NC=C2)[C@@H](C)O)C...         2\n",
              "15  CC1=C(C=CC=C1C2=CC=CC=C2)COC(=O)[C@@H]3[C@@H](...         2\n",
              "16                         CCN(C1CCCCC1)C(=O)SCC;1386         2\n",
              "17      C1=CC=C(C=C1)C(=O)OCCCCCCOC(=O)C2=CC=CC=C2;31         2\n",
              "18        B(C1=CC=CC=C1)(C2=CC=CC=C2)C3=CC=CC=C3;1852         2\n",
              "19  CC(C)(C)C(/C(=C\\C1=C(C=C(C=C1)Cl)Cl)/N2C=NC=N2...         1\n",
              "20                            CC1=CC2=C(C=C1)NCCC2;37         2\n",
              "21  COC1=CC(=NC(=N1)NC(=O)NS(=O)(=O)C2=C(C=CC(=C2)...         2\n",
              "22               CCNC1=NC(=NC(=N1)Cl)NC(C)(C)C#N;1636         1\n",
              "23  C1=CC(=C(C=C1OC2=C(C=C(C=C2I)C[C@@H](C(=O)[O-]...         2\n",
              "24                            CCC1=C(C(=CC=C1)CC)N;40         2"
            ],
            "text/html": [
              "\n",
              "  <div id=\"df-2cf2d100-e9bd-4979-aa33-ad89c0fd9b1c\">\n",
              "    <div class=\"colab-df-container\">\n",
              "      <div>\n",
              "<style scoped>\n",
              "    .dataframe tbody tr th:only-of-type {\n",
              "        vertical-align: middle;\n",
              "    }\n",
              "\n",
              "    .dataframe tbody tr th {\n",
              "        vertical-align: top;\n",
              "    }\n",
              "\n",
              "    .dataframe thead th {\n",
              "        text-align: right;\n",
              "    }\n",
              "</style>\n",
              "<table border=\"1\" class=\"dataframe\">\n",
              "  <thead>\n",
              "    <tr style=\"text-align: right;\">\n",
              "      <th></th>\n",
              "      <th>Id</th>\n",
              "      <th>Expected</th>\n",
              "    </tr>\n",
              "  </thead>\n",
              "  <tbody>\n",
              "    <tr>\n",
              "      <th>0</th>\n",
              "      <td>C1=CC(=CC=C1C(C2=CC=C(C=C2)O)C(Cl)(Cl)Cl)O;1644</td>\n",
              "      <td>2</td>\n",
              "    </tr>\n",
              "    <tr>\n",
              "      <th>1</th>\n",
              "      <td>CCCCCCCCC(=O)C;2451</td>\n",
              "      <td>2</td>\n",
              "    </tr>\n",
              "    <tr>\n",
              "      <th>2</th>\n",
              "      <td>CCCCCCCCCC[N+](C)(C)CCCCCCCCCC.[Cl-];1384</td>\n",
              "      <td>2</td>\n",
              "    </tr>\n",
              "    <tr>\n",
              "      <th>3</th>\n",
              "      <td>C1CN(C(=N1)N[N+](=O)[O-])CC2=CN=C(C=C2)Cl;16</td>\n",
              "      <td>2</td>\n",
              "    </tr>\n",
              "    <tr>\n",
              "      <th>4</th>\n",
              "      <td>[Na+].[I-];1856</td>\n",
              "      <td>2</td>\n",
              "    </tr>\n",
              "    <tr>\n",
              "      <th>5</th>\n",
              "      <td>CCCSP(=O)(OCC)SCCC;1646</td>\n",
              "      <td>2</td>\n",
              "    </tr>\n",
              "    <tr>\n",
              "      <th>6</th>\n",
              "      <td>C(C(C(C(C(F)(F)S(=O)(=O)O)(F)F)(F)F)(F)F)(C(C(...</td>\n",
              "      <td>1</td>\n",
              "    </tr>\n",
              "    <tr>\n",
              "      <th>7</th>\n",
              "      <td>C1=C(C=C(C(=C1Br)O)Br)C#N;1611</td>\n",
              "      <td>2</td>\n",
              "    </tr>\n",
              "    <tr>\n",
              "      <th>8</th>\n",
              "      <td>CCCC(=O)OCC(COC(=O)CCC)OC(=O)CCC;1852</td>\n",
              "      <td>2</td>\n",
              "    </tr>\n",
              "    <tr>\n",
              "      <th>9</th>\n",
              "      <td>CCOC(=O)CC(C(=O)OCC)SP(=O)(OC)OC;1647</td>\n",
              "      <td>2</td>\n",
              "    </tr>\n",
              "    <tr>\n",
              "      <th>10</th>\n",
              "      <td>C1CC2C(O2)CC1C3CO3;40</td>\n",
              "      <td>2</td>\n",
              "    </tr>\n",
              "    <tr>\n",
              "      <th>11</th>\n",
              "      <td>C/C(=N\\OC(=O)N(SN(C(=O)O/N=C(/SC)\\C)C)C)/SC;1637</td>\n",
              "      <td>2</td>\n",
              "    </tr>\n",
              "    <tr>\n",
              "      <th>12</th>\n",
              "      <td>C[C@](CC1=CC(=C(C=C1)O)O)(C(=O)O)N.O;1857</td>\n",
              "      <td>2</td>\n",
              "    </tr>\n",
              "    <tr>\n",
              "      <th>13</th>\n",
              "      <td>CCOC(=O)CC(C(=O)OCC)SP(=O)(OC)OC;1385</td>\n",
              "      <td>2</td>\n",
              "    </tr>\n",
              "    <tr>\n",
              "      <th>14</th>\n",
              "      <td>C[C@@H]1CN(C[C@@H](N1C2=NC(=NC=C2)[C@@H](C)O)C...</td>\n",
              "      <td>2</td>\n",
              "    </tr>\n",
              "    <tr>\n",
              "      <th>15</th>\n",
              "      <td>CC1=C(C=CC=C1C2=CC=CC=C2)COC(=O)[C@@H]3[C@@H](...</td>\n",
              "      <td>2</td>\n",
              "    </tr>\n",
              "    <tr>\n",
              "      <th>16</th>\n",
              "      <td>CCN(C1CCCCC1)C(=O)SCC;1386</td>\n",
              "      <td>2</td>\n",
              "    </tr>\n",
              "    <tr>\n",
              "      <th>17</th>\n",
              "      <td>C1=CC=C(C=C1)C(=O)OCCCCCCOC(=O)C2=CC=CC=C2;31</td>\n",
              "      <td>2</td>\n",
              "    </tr>\n",
              "    <tr>\n",
              "      <th>18</th>\n",
              "      <td>B(C1=CC=CC=C1)(C2=CC=CC=C2)C3=CC=CC=C3;1852</td>\n",
              "      <td>2</td>\n",
              "    </tr>\n",
              "    <tr>\n",
              "      <th>19</th>\n",
              "      <td>CC(C)(C)C(/C(=C\\C1=C(C=C(C=C1)Cl)Cl)/N2C=NC=N2...</td>\n",
              "      <td>1</td>\n",
              "    </tr>\n",
              "    <tr>\n",
              "      <th>20</th>\n",
              "      <td>CC1=CC2=C(C=C1)NCCC2;37</td>\n",
              "      <td>2</td>\n",
              "    </tr>\n",
              "    <tr>\n",
              "      <th>21</th>\n",
              "      <td>COC1=CC(=NC(=N1)NC(=O)NS(=O)(=O)C2=C(C=CC(=C2)...</td>\n",
              "      <td>2</td>\n",
              "    </tr>\n",
              "    <tr>\n",
              "      <th>22</th>\n",
              "      <td>CCNC1=NC(=NC(=N1)Cl)NC(C)(C)C#N;1636</td>\n",
              "      <td>1</td>\n",
              "    </tr>\n",
              "    <tr>\n",
              "      <th>23</th>\n",
              "      <td>C1=CC(=C(C=C1OC2=C(C=C(C=C2I)C[C@@H](C(=O)[O-]...</td>\n",
              "      <td>2</td>\n",
              "    </tr>\n",
              "    <tr>\n",
              "      <th>24</th>\n",
              "      <td>CCC1=C(C(=CC=C1)CC)N;40</td>\n",
              "      <td>2</td>\n",
              "    </tr>\n",
              "  </tbody>\n",
              "</table>\n",
              "</div>\n",
              "      <button class=\"colab-df-convert\" onclick=\"convertToInteractive('df-2cf2d100-e9bd-4979-aa33-ad89c0fd9b1c')\"\n",
              "              title=\"Convert this dataframe to an interactive table.\"\n",
              "              style=\"display:none;\">\n",
              "        \n",
              "  <svg xmlns=\"http://www.w3.org/2000/svg\" height=\"24px\"viewBox=\"0 0 24 24\"\n",
              "       width=\"24px\">\n",
              "    <path d=\"M0 0h24v24H0V0z\" fill=\"none\"/>\n",
              "    <path d=\"M18.56 5.44l.94 2.06.94-2.06 2.06-.94-2.06-.94-.94-2.06-.94 2.06-2.06.94zm-11 1L8.5 8.5l.94-2.06 2.06-.94-2.06-.94L8.5 2.5l-.94 2.06-2.06.94zm10 10l.94 2.06.94-2.06 2.06-.94-2.06-.94-.94-2.06-.94 2.06-2.06.94z\"/><path d=\"M17.41 7.96l-1.37-1.37c-.4-.4-.92-.59-1.43-.59-.52 0-1.04.2-1.43.59L10.3 9.45l-7.72 7.72c-.78.78-.78 2.05 0 2.83L4 21.41c.39.39.9.59 1.41.59.51 0 1.02-.2 1.41-.59l7.78-7.78 2.81-2.81c.8-.78.8-2.07 0-2.86zM5.41 20L4 18.59l7.72-7.72 1.47 1.35L5.41 20z\"/>\n",
              "  </svg>\n",
              "      </button>\n",
              "      \n",
              "  <style>\n",
              "    .colab-df-container {\n",
              "      display:flex;\n",
              "      flex-wrap:wrap;\n",
              "      gap: 12px;\n",
              "    }\n",
              "\n",
              "    .colab-df-convert {\n",
              "      background-color: #E8F0FE;\n",
              "      border: none;\n",
              "      border-radius: 50%;\n",
              "      cursor: pointer;\n",
              "      display: none;\n",
              "      fill: #1967D2;\n",
              "      height: 32px;\n",
              "      padding: 0 0 0 0;\n",
              "      width: 32px;\n",
              "    }\n",
              "\n",
              "    .colab-df-convert:hover {\n",
              "      background-color: #E2EBFA;\n",
              "      box-shadow: 0px 1px 2px rgba(60, 64, 67, 0.3), 0px 1px 3px 1px rgba(60, 64, 67, 0.15);\n",
              "      fill: #174EA6;\n",
              "    }\n",
              "\n",
              "    [theme=dark] .colab-df-convert {\n",
              "      background-color: #3B4455;\n",
              "      fill: #D2E3FC;\n",
              "    }\n",
              "\n",
              "    [theme=dark] .colab-df-convert:hover {\n",
              "      background-color: #434B5C;\n",
              "      box-shadow: 0px 1px 3px 1px rgba(0, 0, 0, 0.15);\n",
              "      filter: drop-shadow(0px 1px 2px rgba(0, 0, 0, 0.3));\n",
              "      fill: #FFFFFF;\n",
              "    }\n",
              "  </style>\n",
              "\n",
              "      <script>\n",
              "        const buttonEl =\n",
              "          document.querySelector('#df-2cf2d100-e9bd-4979-aa33-ad89c0fd9b1c button.colab-df-convert');\n",
              "        buttonEl.style.display =\n",
              "          google.colab.kernel.accessAllowed ? 'block' : 'none';\n",
              "\n",
              "        async function convertToInteractive(key) {\n",
              "          const element = document.querySelector('#df-2cf2d100-e9bd-4979-aa33-ad89c0fd9b1c');\n",
              "          const dataTable =\n",
              "            await google.colab.kernel.invokeFunction('convertToInteractive',\n",
              "                                                     [key], {});\n",
              "          if (!dataTable) return;\n",
              "\n",
              "          const docLinkHtml = 'Like what you see? Visit the ' +\n",
              "            '<a target=\"_blank\" href=https://colab.research.google.com/notebooks/data_table.ipynb>data table notebook</a>'\n",
              "            + ' to learn more about interactive tables.';\n",
              "          element.innerHTML = '';\n",
              "          dataTable['output_type'] = 'display_data';\n",
              "          await google.colab.output.renderOutput(dataTable, element);\n",
              "          const docLink = document.createElement('div');\n",
              "          docLink.innerHTML = docLinkHtml;\n",
              "          element.appendChild(docLink);\n",
              "        }\n",
              "      </script>\n",
              "    </div>\n",
              "  </div>\n",
              "  "
            ]
          },
          "metadata": {},
          "execution_count": 5
        }
      ],
      "source": [
        "train_raw.head(25)"
      ]
    },
    {
      "cell_type": "code",
      "execution_count": 6,
      "metadata": {
        "id": "l7A-LTG7ipJs"
      },
      "outputs": [],
      "source": [
        "# feature extraction\n",
        "train_raw[['chemical_id', 'assay_id']] = train_raw['Id'].str.split(';', expand=True)\n",
        "train_raw['label'] =train_raw['Expected']\n",
        "train_raw = train_raw.drop(['Id', 'Expected'], axis=1)\n",
        "\n",
        "from rdkit import Chem\n",
        "from rdkit.Chem import Descriptors\n",
        "from rdkit.Chem import rdMolDescriptors\n",
        "features = []\n",
        "for chemical_id in train_raw['chemical_id']:\n",
        "    mol = Chem.MolFromSmiles(chemical_id)\n",
        "    if mol is not None:\n",
        "        features.append([Descriptors.MolWt(mol),\n",
        "                         Descriptors.MolLogP(mol),\n",
        "                         Descriptors.TPSA(mol),\n",
        "                         Descriptors.BalabanJ(mol),\n",
        "                         Descriptors.MolMR(mol),\n",
        "                         ])\n",
        "                         \n",
        "    else:\n",
        "        features.append([0, 0, 0, 0, 0,])\n",
        "\n",
        "df_features = pd.DataFrame(features, columns=['MolecularWeight','MolLogP','TPSA','BalabanJ','MolMR'])\n",
        "train_raw = pd.concat([train_raw, df_features], axis=1)\n",
        "\n",
        "# imputing null values\n",
        "train_raw['TPSA'].fillna(train_raw['TPSA'].mean(), inplace=True)\n",
        "train_raw['BalabanJ'].fillna(train_raw['BalabanJ'].mean(), inplace=True)\n",
        "train_raw['MolMR'].fillna(train_raw['MolMR'].mean(), inplace=True)\n"
      ]
    },
    {
      "cell_type": "code",
      "execution_count": 7,
      "metadata": {
        "colab": {
          "base_uri": "https://localhost:8080/"
        },
        "id": "krK9YdzoHAic",
        "outputId": "867ce456-d762-4087-90a4-d0331f8f0772"
      },
      "outputs": [
        {
          "output_type": "execute_result",
          "data": {
            "text/plain": [
              "chemical_id        0\n",
              "assay_id           0\n",
              "label              0\n",
              "MolecularWeight    0\n",
              "MolLogP            0\n",
              "TPSA               0\n",
              "BalabanJ           0\n",
              "MolMR              0\n",
              "dtype: int64"
            ]
          },
          "metadata": {},
          "execution_count": 7
        }
      ],
      "source": [
        "train_raw.isnull().sum()\n"
      ]
    },
    {
      "cell_type": "code",
      "execution_count": 8,
      "metadata": {
        "colab": {
          "base_uri": "https://localhost:8080/",
          "height": 238
        },
        "id": "zyNKQGUTSKD2",
        "outputId": "d92d0658-d35f-4eb1-cd9a-076c58150c7a"
      },
      "outputs": [
        {
          "output_type": "execute_result",
          "data": {
            "text/plain": [
              "                    label  MolecularWeight   MolLogP      TPSA  BalabanJ  \\\n",
              "label            1.000000        -0.097222 -0.108257  0.012733  0.066240   \n",
              "MolecularWeight -0.097222         1.000000  0.418359  0.594094 -0.341084   \n",
              "MolLogP         -0.108257         0.418359  1.000000 -0.239578  0.083304   \n",
              "TPSA             0.012733         0.594094 -0.239578  1.000000 -0.234105   \n",
              "BalabanJ         0.066240        -0.341084  0.083304 -0.234105  1.000000   \n",
              "MolMR           -0.110736         0.925615  0.523516  0.516856 -0.412969   \n",
              "\n",
              "                    MolMR  \n",
              "label           -0.110736  \n",
              "MolecularWeight  0.925615  \n",
              "MolLogP          0.523516  \n",
              "TPSA             0.516856  \n",
              "BalabanJ        -0.412969  \n",
              "MolMR            1.000000  "
            ],
            "text/html": [
              "\n",
              "  <div id=\"df-ecc7ea3c-7a8d-4544-8028-afc0fef13fbf\">\n",
              "    <div class=\"colab-df-container\">\n",
              "      <div>\n",
              "<style scoped>\n",
              "    .dataframe tbody tr th:only-of-type {\n",
              "        vertical-align: middle;\n",
              "    }\n",
              "\n",
              "    .dataframe tbody tr th {\n",
              "        vertical-align: top;\n",
              "    }\n",
              "\n",
              "    .dataframe thead th {\n",
              "        text-align: right;\n",
              "    }\n",
              "</style>\n",
              "<table border=\"1\" class=\"dataframe\">\n",
              "  <thead>\n",
              "    <tr style=\"text-align: right;\">\n",
              "      <th></th>\n",
              "      <th>label</th>\n",
              "      <th>MolecularWeight</th>\n",
              "      <th>MolLogP</th>\n",
              "      <th>TPSA</th>\n",
              "      <th>BalabanJ</th>\n",
              "      <th>MolMR</th>\n",
              "    </tr>\n",
              "  </thead>\n",
              "  <tbody>\n",
              "    <tr>\n",
              "      <th>label</th>\n",
              "      <td>1.000000</td>\n",
              "      <td>-0.097222</td>\n",
              "      <td>-0.108257</td>\n",
              "      <td>0.012733</td>\n",
              "      <td>0.066240</td>\n",
              "      <td>-0.110736</td>\n",
              "    </tr>\n",
              "    <tr>\n",
              "      <th>MolecularWeight</th>\n",
              "      <td>-0.097222</td>\n",
              "      <td>1.000000</td>\n",
              "      <td>0.418359</td>\n",
              "      <td>0.594094</td>\n",
              "      <td>-0.341084</td>\n",
              "      <td>0.925615</td>\n",
              "    </tr>\n",
              "    <tr>\n",
              "      <th>MolLogP</th>\n",
              "      <td>-0.108257</td>\n",
              "      <td>0.418359</td>\n",
              "      <td>1.000000</td>\n",
              "      <td>-0.239578</td>\n",
              "      <td>0.083304</td>\n",
              "      <td>0.523516</td>\n",
              "    </tr>\n",
              "    <tr>\n",
              "      <th>TPSA</th>\n",
              "      <td>0.012733</td>\n",
              "      <td>0.594094</td>\n",
              "      <td>-0.239578</td>\n",
              "      <td>1.000000</td>\n",
              "      <td>-0.234105</td>\n",
              "      <td>0.516856</td>\n",
              "    </tr>\n",
              "    <tr>\n",
              "      <th>BalabanJ</th>\n",
              "      <td>0.066240</td>\n",
              "      <td>-0.341084</td>\n",
              "      <td>0.083304</td>\n",
              "      <td>-0.234105</td>\n",
              "      <td>1.000000</td>\n",
              "      <td>-0.412969</td>\n",
              "    </tr>\n",
              "    <tr>\n",
              "      <th>MolMR</th>\n",
              "      <td>-0.110736</td>\n",
              "      <td>0.925615</td>\n",
              "      <td>0.523516</td>\n",
              "      <td>0.516856</td>\n",
              "      <td>-0.412969</td>\n",
              "      <td>1.000000</td>\n",
              "    </tr>\n",
              "  </tbody>\n",
              "</table>\n",
              "</div>\n",
              "      <button class=\"colab-df-convert\" onclick=\"convertToInteractive('df-ecc7ea3c-7a8d-4544-8028-afc0fef13fbf')\"\n",
              "              title=\"Convert this dataframe to an interactive table.\"\n",
              "              style=\"display:none;\">\n",
              "        \n",
              "  <svg xmlns=\"http://www.w3.org/2000/svg\" height=\"24px\"viewBox=\"0 0 24 24\"\n",
              "       width=\"24px\">\n",
              "    <path d=\"M0 0h24v24H0V0z\" fill=\"none\"/>\n",
              "    <path d=\"M18.56 5.44l.94 2.06.94-2.06 2.06-.94-2.06-.94-.94-2.06-.94 2.06-2.06.94zm-11 1L8.5 8.5l.94-2.06 2.06-.94-2.06-.94L8.5 2.5l-.94 2.06-2.06.94zm10 10l.94 2.06.94-2.06 2.06-.94-2.06-.94-.94-2.06-.94 2.06-2.06.94z\"/><path d=\"M17.41 7.96l-1.37-1.37c-.4-.4-.92-.59-1.43-.59-.52 0-1.04.2-1.43.59L10.3 9.45l-7.72 7.72c-.78.78-.78 2.05 0 2.83L4 21.41c.39.39.9.59 1.41.59.51 0 1.02-.2 1.41-.59l7.78-7.78 2.81-2.81c.8-.78.8-2.07 0-2.86zM5.41 20L4 18.59l7.72-7.72 1.47 1.35L5.41 20z\"/>\n",
              "  </svg>\n",
              "      </button>\n",
              "      \n",
              "  <style>\n",
              "    .colab-df-container {\n",
              "      display:flex;\n",
              "      flex-wrap:wrap;\n",
              "      gap: 12px;\n",
              "    }\n",
              "\n",
              "    .colab-df-convert {\n",
              "      background-color: #E8F0FE;\n",
              "      border: none;\n",
              "      border-radius: 50%;\n",
              "      cursor: pointer;\n",
              "      display: none;\n",
              "      fill: #1967D2;\n",
              "      height: 32px;\n",
              "      padding: 0 0 0 0;\n",
              "      width: 32px;\n",
              "    }\n",
              "\n",
              "    .colab-df-convert:hover {\n",
              "      background-color: #E2EBFA;\n",
              "      box-shadow: 0px 1px 2px rgba(60, 64, 67, 0.3), 0px 1px 3px 1px rgba(60, 64, 67, 0.15);\n",
              "      fill: #174EA6;\n",
              "    }\n",
              "\n",
              "    [theme=dark] .colab-df-convert {\n",
              "      background-color: #3B4455;\n",
              "      fill: #D2E3FC;\n",
              "    }\n",
              "\n",
              "    [theme=dark] .colab-df-convert:hover {\n",
              "      background-color: #434B5C;\n",
              "      box-shadow: 0px 1px 3px 1px rgba(0, 0, 0, 0.15);\n",
              "      filter: drop-shadow(0px 1px 2px rgba(0, 0, 0, 0.3));\n",
              "      fill: #FFFFFF;\n",
              "    }\n",
              "  </style>\n",
              "\n",
              "      <script>\n",
              "        const buttonEl =\n",
              "          document.querySelector('#df-ecc7ea3c-7a8d-4544-8028-afc0fef13fbf button.colab-df-convert');\n",
              "        buttonEl.style.display =\n",
              "          google.colab.kernel.accessAllowed ? 'block' : 'none';\n",
              "\n",
              "        async function convertToInteractive(key) {\n",
              "          const element = document.querySelector('#df-ecc7ea3c-7a8d-4544-8028-afc0fef13fbf');\n",
              "          const dataTable =\n",
              "            await google.colab.kernel.invokeFunction('convertToInteractive',\n",
              "                                                     [key], {});\n",
              "          if (!dataTable) return;\n",
              "\n",
              "          const docLinkHtml = 'Like what you see? Visit the ' +\n",
              "            '<a target=\"_blank\" href=https://colab.research.google.com/notebooks/data_table.ipynb>data table notebook</a>'\n",
              "            + ' to learn more about interactive tables.';\n",
              "          element.innerHTML = '';\n",
              "          dataTable['output_type'] = 'display_data';\n",
              "          await google.colab.output.renderOutput(dataTable, element);\n",
              "          const docLink = document.createElement('div');\n",
              "          docLink.innerHTML = docLinkHtml;\n",
              "          element.appendChild(docLink);\n",
              "        }\n",
              "      </script>\n",
              "    </div>\n",
              "  </div>\n",
              "  "
            ]
          },
          "metadata": {},
          "execution_count": 8
        }
      ],
      "source": [
        "correlation = train_raw.corr()\n",
        "correlation"
      ]
    },
    {
      "cell_type": "code",
      "execution_count": 9,
      "metadata": {
        "id": "uDKX2NsiLQC9"
      },
      "outputs": [],
      "source": [
        "# feature extraction for test data\n",
        "test_raw\n",
        "test_raw[['chemical_id', 'assay_id']] = test_raw['x'].str.split(';', expand=True)\n",
        "test_raw = test_raw.drop(['x'], axis=1)\n",
        "test_features = []\n",
        "for chemical_id in test_raw['chemical_id']:\n",
        "    mol = Chem.MolFromSmiles(chemical_id)\n",
        "    if mol is not None:\n",
        "        test_features.append([Descriptors.MolWt(mol),\n",
        "                         Descriptors.MolLogP(mol),\n",
        "                         Descriptors.TPSA(mol),\n",
        "                         Descriptors.BalabanJ(mol),\n",
        "                         Descriptors.MolMR(mol),\n",
        "                         ])\n",
        "                         \n",
        "    else:\n",
        "        test_features.append([0, 0, 0, 0,0,])\n",
        "\n",
        "df_features_test = pd.DataFrame(test_features, columns=['MolecularWeight', 'MolLogP','TPSA','BalabanJ','MolMR'])\n",
        "test_raw = pd.concat([test_raw, df_features_test], axis=1)"
      ]
    },
    {
      "cell_type": "code",
      "execution_count": 10,
      "metadata": {
        "colab": {
          "base_uri": "https://localhost:8080/"
        },
        "id": "dMXMulv7L8un",
        "outputId": "a6449286-77c1-4006-d8cc-c19b9140692a"
      },
      "outputs": [
        {
          "output_type": "execute_result",
          "data": {
            "text/plain": [
              "chemical_id        0\n",
              "assay_id           0\n",
              "MolecularWeight    0\n",
              "MolLogP            0\n",
              "TPSA               0\n",
              "BalabanJ           0\n",
              "MolMR              0\n",
              "dtype: int64"
            ]
          },
          "metadata": {},
          "execution_count": 10
        }
      ],
      "source": [
        "test_raw.isnull().sum()"
      ]
    },
    {
      "cell_type": "code",
      "execution_count": 16,
      "metadata": {
        "colab": {
          "base_uri": "https://localhost:8080/"
        },
        "id": "F0vIOYTsLpsw",
        "outputId": "fe041d78-80b0-4992-bad3-f251c583788b"
      },
      "outputs": [
        {
          "output_type": "stream",
          "name": "stdout",
          "text": [
            "Accuracy for XGBClassifier 0.9889099664380563\n"
          ]
        }
      ],
      "source": [
        "# Applying models\n",
        "from sklearn.model_selection import train_test_split\n",
        "from sklearn.tree import DecisionTreeClassifier\n",
        "from sklearn.metrics import accuracy_score\n",
        "from sklearn.ensemble import RandomForestClassifier\n",
        "from sklearn.neighbors import KNeighborsClassifier\n",
        "from sklearn.linear_model import LogisticRegression\n",
        "from sklearn.preprocessing import StandardScaler\n",
        "from xgboost import XGBClassifier\n",
        "from sklearn.model_selection import StratifiedKFold\n",
        "from sklearn.model_selection import GridSearchCV\n",
        "\n",
        "X_train = train_raw.drop(['chemical_id', 'label'], axis=1).values\n",
        "y_train = train_raw['label'].values\n",
        "\n",
        "\n",
        "from sklearn.preprocessing import LabelEncoder\n",
        "le = LabelEncoder()\n",
        "y_train = le.fit_transform(y_train)\n",
        "\n",
        "xgb = XGBClassifier(n_estimators=300, max_depth=10, random_state = 42)\n",
        "xgb.fit(X_train, y_train)\n",
        "y_pred6 = xgb.predict(X_train)\n",
        "score6 = xgb.score(X_train, y_train)\n",
        "print('Accuracy for XGBClassifier', score6)\n"
      ]
    },
    {
      "cell_type": "code",
      "source": [
        "X_train[100]"
      ],
      "metadata": {
        "colab": {
          "base_uri": "https://localhost:8080/"
        },
        "id": "Yh1R9frSPqI5",
        "outputId": "ae5ce8f5-c5ee-4bcf-af61-7908986eb1f5"
      },
      "execution_count": 12,
      "outputs": [
        {
          "output_type": "execute_result",
          "data": {
            "text/plain": [
              "array(['1855', 335.28200000000004, 4.148200000000004, 89.52,\n",
              "       3.6993779362256016, 77.54780000000001], dtype=object)"
            ]
          },
          "metadata": {},
          "execution_count": 12
        }
      ]
    },
    {
      "cell_type": "code",
      "source": [
        "# Internal evaluation\n",
        "from sklearn.model_selection import train_test_split\n",
        "from sklearn.metrics import f1_score\n",
        "X = X_train\n",
        "y = y_train\n",
        "X_test = test_raw.drop(['chemical_id'], axis=1).values\n",
        "\n",
        "X_train, X_val, y_train, y_val = train_test_split(X,\n",
        "                                                  y,\n",
        "                                                  test_size=0.2, \n",
        "                                                  random_state=42)\n",
        "\n",
        "xgb = XGBClassifier(n_estimators=300, max_depth=10 )\n",
        "xgb.fit(X_train, y_train)\n",
        "predictions = xgb.predict(X_val)\n",
        "\n",
        "#f1 score \n",
        "f1 = f1_score(y_val, predictions)\n",
        "\n",
        "# Print F1 score\n",
        "print(\"F1 score:\", f1)"
      ],
      "metadata": {
        "colab": {
          "base_uri": "https://localhost:8080/"
        },
        "id": "OwhJoA2nH8zg",
        "outputId": "9c5af3b3-5b7e-479f-8adc-f5f686048735"
      },
      "execution_count": 15,
      "outputs": [
        {
          "output_type": "stream",
          "name": "stdout",
          "text": [
            "F1 score: 0.9440158108775796\n"
          ]
        }
      ]
    },
    {
      "cell_type": "code",
      "execution_count": 13,
      "metadata": {
        "id": "10z5FaRJNgAB",
        "colab": {
          "base_uri": "https://localhost:8080/"
        },
        "outputId": "260439cf-c4ce-4970-f174-8ba8e2cd7ee0"
      },
      "outputs": [
        {
          "output_type": "stream",
          "name": "stdout",
          "text": [
            "Best parameters found: {'colsample_bytree': 0.8, 'gamma': 0, 'learning_rate': 0.1, 'max_depth': 10, 'n_estimators': 300, 'subsample': 0.8}\n",
            "Best score: 0.9073796230205067\n"
          ]
        }
      ],
      "source": [
        "# grid search for xgb\n",
        "import xgboost as xgb\n",
        "from sklearn.model_selection import GridSearchCV\n",
        "\n",
        "xgb_model = xgb.XGBClassifier()\n",
        "\n",
        "param_grid = {\n",
        "    'learning_rate': [0.1],\n",
        "    'max_depth': [10],\n",
        "    'n_estimators': [300],\n",
        "    'gamma': [0, 0.1, 0.2,],\n",
        "    'subsample': [0.5, 0.8, 1.0],\n",
        "    'colsample_bytree': [0.5, 0.8, 1.0]\n",
        "}\n",
        "\n",
        "grid_search = GridSearchCV(estimator=xgb_model, param_grid=param_grid, cv=5)\n",
        "\n",
        "grid_search.fit(X_train, y_train)\n",
        "\n",
        "# print the best parameters and the corresponding score\n",
        "print(\"Best parameters found:\", grid_search.best_params_)\n",
        "print(\"Best score:\", grid_search.best_score_)\n"
      ]
    },
    {
      "cell_type": "code",
      "execution_count": 17,
      "metadata": {
        "id": "To6HJCp_O1gA"
      },
      "outputs": [],
      "source": [
        "# predicting results\n",
        "X_test = test_raw.drop(['chemical_id'], axis=1).values\n",
        "\n",
        "from sklearn.metrics import confusion_matrix, accuracy_score\n",
        "y_pred_test = xgb.predict(X_test)\n",
        "y_pred_test = le.inverse_transform(y_pred_test)\n",
        "\n",
        "# Creating a submission file\n",
        "submission = pd.DataFrame({'Id': test_raw['chemical_id'] + ';' + test_raw['assay_id'].astype(str), 'Predicted': y_pred_test})\n",
        "submission\n",
        "submission.to_csv('/content/drive/MyDrive/Data Mining and Machine Learning Assignment 1/project_submission_xgb_final.csv', index=False)"
      ]
    }
  ],
  "metadata": {
    "colab": {
      "provenance": [],
      "include_colab_link": true
    },
    "kernelspec": {
      "display_name": "Python 3",
      "name": "python3"
    },
    "language_info": {
      "name": "python"
    }
  },
  "nbformat": 4,
  "nbformat_minor": 0
}